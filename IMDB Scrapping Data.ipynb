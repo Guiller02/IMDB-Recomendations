{
 "cells": [
  {
   "cell_type": "markdown",
   "metadata": {},
   "source": [
    "## Imports"
   ]
  },
  {
   "cell_type": "code",
   "execution_count": 1,
   "metadata": {},
   "outputs": [],
   "source": [
    "from bs4 import BeautifulSoup as bs\n",
    "import requests\n",
    "\n",
    "import pandas as pd"
   ]
  },
  {
   "cell_type": "markdown",
   "metadata": {},
   "source": [
    "## Getting urls and genres to search"
   ]
  },
  {
   "cell_type": "markdown",
   "metadata": {},
   "source": [
    "To change the genre of the contents, we just have to add something in genre. \n",
    "Example: \n",
    "\n",
    "movie_genre = 'comedy'"
   ]
  },
  {
   "cell_type": "code",
   "execution_count": 2,
   "metadata": {},
   "outputs": [],
   "source": [
    "movie_genre = ''\n",
    "serie_genre = ''\n",
    "game_genre = ''\n",
    "\n",
    "url_serie = 'https://www.imdb.com/search/title/?title_type=tv_series&release_date=2015-01-01,2020-12-31&genres='+serie_genre+'&sort=num_votes,desc&count=250&start=0'\n",
    "url_movie = 'https://www.imdb.com/search/title/?title_type=feature&release_date=2015-01-01,2020-12-31&genres='+movie_genre+'&sort=num_votes,desc&count=250&start=0'\n",
    "url_game = 'https://www.imdb.com/search/title/?title_type=video_game&release_date=2015-01-01,2019-12-31&genres='+game_genre+'&sort=num_votes,desc&count=250&start=0'"
   ]
  },
  {
   "cell_type": "markdown",
   "metadata": {},
   "source": [
    "## Requisitons and parsing to BeautifulSoup"
   ]
  },
  {
   "cell_type": "code",
   "execution_count": 3,
   "metadata": {},
   "outputs": [],
   "source": [
    "movies_req = requests.get(url_movie)\n",
    "series_req = requests.get(url_serie)\n",
    "games_req = requests.get(url_game)"
   ]
  },
  {
   "cell_type": "code",
   "execution_count": 4,
   "metadata": {},
   "outputs": [],
   "source": [
    "soup_movie = bs(movies_req.text, 'lxml')\n",
    "soup_serie = bs(series_req.text, 'lxml')\n",
    "soup_game = bs(games_req.text, 'lxml')"
   ]
  },
  {
   "cell_type": "code",
   "execution_count": 5,
   "metadata": {},
   "outputs": [],
   "source": [
    "movie_contents = soup_movie.find_all('div', class_ = 'lister-item mode-advanced')\n",
    "serie_contents = soup_serie.find_all('div', class_ = 'lister-item mode-advanced')\n",
    "game_contents = soup_game.find_all('div', class_ = 'lister-item mode-advanced')"
   ]
  },
  {
   "cell_type": "markdown",
   "metadata": {},
   "source": [
    "Here i'm searching what is the name of the classes i gonna to search and testing what is the results"
   ]
  },
  {
   "cell_type": "code",
   "execution_count": 6,
   "metadata": {},
   "outputs": [],
   "source": [
    "test = soup_game.find('div', class_ = 'lister-item mode-advanced')"
   ]
  },
  {
   "cell_type": "code",
   "execution_count": 7,
   "metadata": {},
   "outputs": [
    {
     "data": {
      "text/plain": [
       "'Action, Adventure, Drama'"
      ]
     },
     "execution_count": 7,
     "metadata": {},
     "output_type": "execute_result"
    }
   ],
   "source": [
    "#Here is only for tests\n",
    "test.h3.a.text\n",
    "test.h3.find('span', class_ = 'lister-item-year text-muted unbold').text\n",
    "test.strong.text\n",
    "test.find('span', attrs = {'name':'nv'}).text\n",
    "test.find('span', attrs = {'class':'certificate'}).text\n",
    "test.find('span', attrs = {'class':'genre'}).text.strip()"
   ]
  },
  {
   "cell_type": "markdown",
   "metadata": {},
   "source": [
    "## Getting the data from the requisitions and adding to an array with the name of the entertainment i'm adding"
   ]
  },
  {
   "cell_type": "code",
   "execution_count": 8,
   "metadata": {},
   "outputs": [],
   "source": [
    "movies_names = []\n",
    "movies_years = []\n",
    "movies_imdb_ratings = []\n",
    "movies_metascores = []\n",
    "movies_votes = []\n",
    "movies_ages = []\n",
    "movies_runtimes = []\n",
    "movies_genres = []\n",
    "\n",
    "for content in movie_contents:\n",
    "    if content.find('span', attrs = {'class':'certificate'}) is not None:\n",
    "    # The name of the movie\n",
    "        movies_name = content.h3.a.text\n",
    "        movies_names.append(movies_name)\n",
    "    # The year of the movie\n",
    "        movies_year = content.h3.find('span', class_ = 'lister-item-year').text\n",
    "        if movies_year[1].isdigit() == False:\n",
    "            movies_year = movies_year.strip('(I) (')\n",
    "        else:\n",
    "            movies_year = movies_year.strip('()')\n",
    "        movies_years.append(movies_year)\n",
    "    # The rating of the movie\n",
    "        movies_imdb = float(content.strong.text)\n",
    "        movies_imdb_ratings.append(movies_imdb)\n",
    "    # The number of votes of the movie\n",
    "        movies_vote = content.find('span', attrs = {'name':'nv'})['data-value']\n",
    "        movies_votes.append(int(movies_vote))\n",
    "    #the Age rating of the movie\n",
    "        movies_age_rating = content.find('span', attrs = {'class':'certificate'}).text\n",
    "        movies_ages.append(movies_age_rating)\n",
    "    #The runtime of the movie\n",
    "        movies_runtime = content.find('span', attrs = {'class':'runtime'}).text.strip(' min')\n",
    "        movies_runtimes.append(movies_runtime)\n",
    "    #The genres of the movie\n",
    "        movies_genre = content.find('span', attrs = {'class':'genre'}).text.strip()\n",
    "        movies_genres.append(movies_genre)"
   ]
  },
  {
   "cell_type": "code",
   "execution_count": 9,
   "metadata": {},
   "outputs": [],
   "source": [
    "series_names = []\n",
    "series_years = []\n",
    "series_imdb_ratings = []\n",
    "series_metascores = []\n",
    "series_votes = []\n",
    "series_ages = []\n",
    "series_runtimes = []\n",
    "series_genres = []\n",
    "\n",
    "for content in serie_contents:\n",
    "    if content.find('span', attrs = {'class':'certificate'}) is not None and content.find('span', attrs = {'class':'runtime'}) is not None:\n",
    "    # The name of the serie\n",
    "        series_name = content.h3.a.text\n",
    "        series_names.append(series_name)\n",
    "    # The year of the serie\n",
    "        series_year = content.h3.find('span', class_ = 'lister-item-year').text\n",
    "        series_years.append(series_year)\n",
    "    # The rating of the serie\n",
    "        series_imdb = float(content.strong.text)\n",
    "        series_imdb_ratings.append(series_imdb)\n",
    "    # The number of votes of the serie\n",
    "        series_vote = content.find('span', attrs = {'name':'nv'})['data-value']\n",
    "        series_votes.append(int(series_vote))\n",
    "    #the Age rating of the serie\n",
    "        series_age_rating = content.find('span', attrs = {'class':'certificate'}).text\n",
    "        series_ages.append(series_age_rating)\n",
    "    #The runtime of the serie\n",
    "        series_runtime = content.find('span', attrs = {'class':'runtime'}).text.strip(' min')\n",
    "        series_runtimes.append(series_runtime)\n",
    "    #The genres of the serie\n",
    "        series_genre = content.find('span', attrs = {'class':'genre'}).text.strip()\n",
    "        series_genres.append(series_genre)"
   ]
  },
  {
   "cell_type": "code",
   "execution_count": 10,
   "metadata": {},
   "outputs": [],
   "source": [
    "game_names = []\n",
    "game_years = []\n",
    "game_imdb_ratings = []\n",
    "game_metascores = []\n",
    "game_votes = []\n",
    "game_ages = []\n",
    "game_runtimes = []\n",
    "game_genres = []\n",
    "\n",
    "for content in game_contents:\n",
    "    if content.find('span', attrs = {'class':'certificate'}) is not None:\n",
    "    # The name of the game\n",
    "        game_name = content.h3.a.text\n",
    "        game_names.append(game_name)\n",
    "    # The year of the game\n",
    "        game_year = content.h3.find('span', class_ = 'lister-item-year').text.strip('( Video Game)')\n",
    "        game_years.append(game_year)\n",
    "    # The rating of the game\n",
    "        game_imdb = float(content.strong.text)\n",
    "        game_imdb_ratings.append(game_imdb)\n",
    "    # The number of votes of the game\n",
    "        game_vote = content.find('span', attrs = {'name':'nv'})['data-value']\n",
    "        game_votes.append(int(game_vote))\n",
    "    #the Age rating of the game\n",
    "        game_age_rating = content.find('span', attrs = {'class':'certificate'}).text\n",
    "        game_ages.append(game_age_rating)\n",
    "    #The genres of the game\n",
    "        game_genre = content.find('span', attrs = {'class':'genre'}).text.strip()\n",
    "        game_genres.append(game_genre)"
   ]
  },
  {
   "cell_type": "markdown",
   "metadata": {},
   "source": [
    "## Here i'm creating a dataframe of movies, series and games"
   ]
  },
  {
   "cell_type": "code",
   "execution_count": 11,
   "metadata": {},
   "outputs": [],
   "source": [
    "movie_dataframe = pd.DataFrame({\n",
    "'movie': movies_names,\n",
    "'year': movies_years,\n",
    "'imdb': movies_imdb_ratings,\n",
    "'number_votes': movies_votes,\n",
    "'age_rating':movies_ages,\n",
    "'runtime':movies_runtimes,\n",
    "'genres':movies_genres\n",
    "})\n",
    "\n",
    "series_dataframe = pd.DataFrame({\n",
    "'serie': series_names,\n",
    "'year': series_years,\n",
    "'imdb': series_imdb_ratings,\n",
    "'number_votes': series_votes,\n",
    "'age_rating':series_ages,\n",
    "'runtime':series_runtimes,\n",
    "'genres':series_genres\n",
    "})\n",
    "\n",
    "games_dataframe = pd.DataFrame({\n",
    "'Game': game_names,\n",
    "'year': game_years,\n",
    "'imdb': game_imdb_ratings,\n",
    "'number_votes': game_votes,\n",
    "'age_rating':game_ages,\n",
    "'genres':game_genres\n",
    "})"
   ]
  },
  {
   "cell_type": "markdown",
   "metadata": {},
   "source": [
    "## I'm looking what is in every dataframe"
   ]
  },
  {
   "cell_type": "code",
   "execution_count": 12,
   "metadata": {},
   "outputs": [
    {
     "data": {
      "text/html": [
       "<div>\n",
       "<style scoped>\n",
       "    .dataframe tbody tr th:only-of-type {\n",
       "        vertical-align: middle;\n",
       "    }\n",
       "\n",
       "    .dataframe tbody tr th {\n",
       "        vertical-align: top;\n",
       "    }\n",
       "\n",
       "    .dataframe thead th {\n",
       "        text-align: right;\n",
       "    }\n",
       "</style>\n",
       "<table border=\"1\" class=\"dataframe\">\n",
       "  <thead>\n",
       "    <tr style=\"text-align: right;\">\n",
       "      <th></th>\n",
       "      <th>movie</th>\n",
       "      <th>year</th>\n",
       "      <th>imdb</th>\n",
       "      <th>number_votes</th>\n",
       "      <th>age_rating</th>\n",
       "      <th>runtime</th>\n",
       "      <th>genres</th>\n",
       "    </tr>\n",
       "  </thead>\n",
       "  <tbody>\n",
       "    <tr>\n",
       "      <td>0</td>\n",
       "      <td>Deadpool</td>\n",
       "      <td>2016</td>\n",
       "      <td>8.0</td>\n",
       "      <td>852465</td>\n",
       "      <td>16</td>\n",
       "      <td>108</td>\n",
       "      <td>Action, Adventure, Comedy</td>\n",
       "    </tr>\n",
       "    <tr>\n",
       "      <td>1</td>\n",
       "      <td>Star Wars: O Despertar da Força</td>\n",
       "      <td>2015</td>\n",
       "      <td>7.9</td>\n",
       "      <td>817641</td>\n",
       "      <td>12</td>\n",
       "      <td>138</td>\n",
       "      <td>Action, Adventure, Sci-Fi</td>\n",
       "    </tr>\n",
       "    <tr>\n",
       "      <td>2</td>\n",
       "      <td>Mad Max: Estrada da Fúria</td>\n",
       "      <td>2015</td>\n",
       "      <td>8.1</td>\n",
       "      <td>812677</td>\n",
       "      <td>16</td>\n",
       "      <td>120</td>\n",
       "      <td>Action, Adventure, Sci-Fi</td>\n",
       "    </tr>\n",
       "    <tr>\n",
       "      <td>3</td>\n",
       "      <td>Vingadores: Guerra Infinita</td>\n",
       "      <td>2018</td>\n",
       "      <td>8.5</td>\n",
       "      <td>736936</td>\n",
       "      <td>12</td>\n",
       "      <td>149</td>\n",
       "      <td>Action, Adventure, Sci-Fi</td>\n",
       "    </tr>\n",
       "    <tr>\n",
       "      <td>4</td>\n",
       "      <td>Perdido em Marte</td>\n",
       "      <td>2015</td>\n",
       "      <td>8.0</td>\n",
       "      <td>708099</td>\n",
       "      <td>12</td>\n",
       "      <td>144</td>\n",
       "      <td>Adventure, Drama, Sci-Fi</td>\n",
       "    </tr>\n",
       "  </tbody>\n",
       "</table>\n",
       "</div>"
      ],
      "text/plain": [
       "                             movie  year  imdb  number_votes age_rating  \\\n",
       "0                         Deadpool  2016   8.0        852465         16   \n",
       "1  Star Wars: O Despertar da Força  2015   7.9        817641         12   \n",
       "2        Mad Max: Estrada da Fúria  2015   8.1        812677         16   \n",
       "3      Vingadores: Guerra Infinita  2018   8.5        736936         12   \n",
       "4                 Perdido em Marte  2015   8.0        708099         12   \n",
       "\n",
       "  runtime                     genres  \n",
       "0     108  Action, Adventure, Comedy  \n",
       "1     138  Action, Adventure, Sci-Fi  \n",
       "2     120  Action, Adventure, Sci-Fi  \n",
       "3     149  Action, Adventure, Sci-Fi  \n",
       "4     144   Adventure, Drama, Sci-Fi  "
      ]
     },
     "execution_count": 12,
     "metadata": {},
     "output_type": "execute_result"
    }
   ],
   "source": [
    "movie_dataframe.head()"
   ]
  },
  {
   "cell_type": "code",
   "execution_count": 13,
   "metadata": {},
   "outputs": [
    {
     "data": {
      "text/html": [
       "<div>\n",
       "<style scoped>\n",
       "    .dataframe tbody tr th:only-of-type {\n",
       "        vertical-align: middle;\n",
       "    }\n",
       "\n",
       "    .dataframe tbody tr th {\n",
       "        vertical-align: top;\n",
       "    }\n",
       "\n",
       "    .dataframe thead th {\n",
       "        text-align: right;\n",
       "    }\n",
       "</style>\n",
       "<table border=\"1\" class=\"dataframe\">\n",
       "  <thead>\n",
       "    <tr style=\"text-align: right;\">\n",
       "      <th></th>\n",
       "      <th>serie</th>\n",
       "      <th>year</th>\n",
       "      <th>imdb</th>\n",
       "      <th>number_votes</th>\n",
       "      <th>age_rating</th>\n",
       "      <th>runtime</th>\n",
       "      <th>genres</th>\n",
       "    </tr>\n",
       "  </thead>\n",
       "  <tbody>\n",
       "    <tr>\n",
       "      <td>0</td>\n",
       "      <td>Stranger Things</td>\n",
       "      <td>(2016– )</td>\n",
       "      <td>8.8</td>\n",
       "      <td>693450</td>\n",
       "      <td>14</td>\n",
       "      <td>51</td>\n",
       "      <td>Drama, Fantasy, Horror</td>\n",
       "    </tr>\n",
       "    <tr>\n",
       "      <td>1</td>\n",
       "      <td>Westworld</td>\n",
       "      <td>(2016– )</td>\n",
       "      <td>8.7</td>\n",
       "      <td>370915</td>\n",
       "      <td>16</td>\n",
       "      <td>62</td>\n",
       "      <td>Drama, Mystery, Sci-Fi</td>\n",
       "    </tr>\n",
       "    <tr>\n",
       "      <td>2</td>\n",
       "      <td>Demolidor</td>\n",
       "      <td>(2015–2018)</td>\n",
       "      <td>8.6</td>\n",
       "      <td>340702</td>\n",
       "      <td>18</td>\n",
       "      <td>54</td>\n",
       "      <td>Action, Crime, Drama</td>\n",
       "    </tr>\n",
       "    <tr>\n",
       "      <td>3</td>\n",
       "      <td>Narcos</td>\n",
       "      <td>(2015–2017)</td>\n",
       "      <td>8.8</td>\n",
       "      <td>314157</td>\n",
       "      <td>16</td>\n",
       "      <td>49</td>\n",
       "      <td>Biography, Crime, Drama</td>\n",
       "    </tr>\n",
       "    <tr>\n",
       "      <td>4</td>\n",
       "      <td>Mr. Robot: Sociedade Hacker</td>\n",
       "      <td>(2015–2019)</td>\n",
       "      <td>8.5</td>\n",
       "      <td>300530</td>\n",
       "      <td>16</td>\n",
       "      <td>49</td>\n",
       "      <td>Crime, Drama, Thriller</td>\n",
       "    </tr>\n",
       "  </tbody>\n",
       "</table>\n",
       "</div>"
      ],
      "text/plain": [
       "                         serie         year  imdb  number_votes age_rating  \\\n",
       "0              Stranger Things     (2016– )   8.8        693450         14   \n",
       "1                    Westworld     (2016– )   8.7        370915         16   \n",
       "2                    Demolidor  (2015–2018)   8.6        340702         18   \n",
       "3                       Narcos  (2015–2017)   8.8        314157         16   \n",
       "4  Mr. Robot: Sociedade Hacker  (2015–2019)   8.5        300530         16   \n",
       "\n",
       "  runtime                   genres  \n",
       "0      51   Drama, Fantasy, Horror  \n",
       "1      62   Drama, Mystery, Sci-Fi  \n",
       "2      54     Action, Crime, Drama  \n",
       "3      49  Biography, Crime, Drama  \n",
       "4      49   Crime, Drama, Thriller  "
      ]
     },
     "execution_count": 13,
     "metadata": {},
     "output_type": "execute_result"
    }
   ],
   "source": [
    "series_dataframe.head()"
   ]
  },
  {
   "cell_type": "code",
   "execution_count": 14,
   "metadata": {},
   "outputs": [
    {
     "data": {
      "text/html": [
       "<div>\n",
       "<style scoped>\n",
       "    .dataframe tbody tr th:only-of-type {\n",
       "        vertical-align: middle;\n",
       "    }\n",
       "\n",
       "    .dataframe tbody tr th {\n",
       "        vertical-align: top;\n",
       "    }\n",
       "\n",
       "    .dataframe thead th {\n",
       "        text-align: right;\n",
       "    }\n",
       "</style>\n",
       "<table border=\"1\" class=\"dataframe\">\n",
       "  <thead>\n",
       "    <tr style=\"text-align: right;\">\n",
       "      <th></th>\n",
       "      <th>Game</th>\n",
       "      <th>year</th>\n",
       "      <th>imdb</th>\n",
       "      <th>number_votes</th>\n",
       "      <th>age_rating</th>\n",
       "      <th>genres</th>\n",
       "    </tr>\n",
       "  </thead>\n",
       "  <tbody>\n",
       "    <tr>\n",
       "      <td>0</td>\n",
       "      <td>Uncharted 4: A Thief's End</td>\n",
       "      <td>2016</td>\n",
       "      <td>9.5</td>\n",
       "      <td>17644</td>\n",
       "      <td>14</td>\n",
       "      <td>Action, Adventure, Drama</td>\n",
       "    </tr>\n",
       "    <tr>\n",
       "      <td>1</td>\n",
       "      <td>Wiedzmin 3: Dziki Gon</td>\n",
       "      <td>2015</td>\n",
       "      <td>9.7</td>\n",
       "      <td>15903</td>\n",
       "      <td>16</td>\n",
       "      <td>Action, Adventure, Drama</td>\n",
       "    </tr>\n",
       "    <tr>\n",
       "      <td>2</td>\n",
       "      <td>Red Dead Redemption II</td>\n",
       "      <td>2018</td>\n",
       "      <td>9.7</td>\n",
       "      <td>15329</td>\n",
       "      <td>18</td>\n",
       "      <td>Action, Adventure, Crime</td>\n",
       "    </tr>\n",
       "    <tr>\n",
       "      <td>3</td>\n",
       "      <td>God of War</td>\n",
       "      <td>2018</td>\n",
       "      <td>9.6</td>\n",
       "      <td>12691</td>\n",
       "      <td>18</td>\n",
       "      <td>Action, Adventure, Drama</td>\n",
       "    </tr>\n",
       "    <tr>\n",
       "      <td>4</td>\n",
       "      <td>Batman: Arkham Knight</td>\n",
       "      <td>2015</td>\n",
       "      <td>9.0</td>\n",
       "      <td>12512</td>\n",
       "      <td>16</td>\n",
       "      <td>Action, Adventure, Crime</td>\n",
       "    </tr>\n",
       "  </tbody>\n",
       "</table>\n",
       "</div>"
      ],
      "text/plain": [
       "                         Game  year  imdb  number_votes age_rating  \\\n",
       "0  Uncharted 4: A Thief's End  2016   9.5         17644         14   \n",
       "1       Wiedzmin 3: Dziki Gon  2015   9.7         15903         16   \n",
       "2      Red Dead Redemption II  2018   9.7         15329         18   \n",
       "3                  God of War  2018   9.6         12691         18   \n",
       "4       Batman: Arkham Knight  2015   9.0         12512         16   \n",
       "\n",
       "                     genres  \n",
       "0  Action, Adventure, Drama  \n",
       "1  Action, Adventure, Drama  \n",
       "2  Action, Adventure, Crime  \n",
       "3  Action, Adventure, Drama  \n",
       "4  Action, Adventure, Crime  "
      ]
     },
     "execution_count": 14,
     "metadata": {},
     "output_type": "execute_result"
    }
   ],
   "source": [
    "games_dataframe.head()"
   ]
  },
  {
   "cell_type": "markdown",
   "metadata": {},
   "source": [
    "## And finally, parsing the dataframes to a csv file"
   ]
  },
  {
   "cell_type": "code",
   "execution_count": 16,
   "metadata": {},
   "outputs": [],
   "source": [
    "movie_dataframe.to_csv('imdb_movies.csv')\n",
    "series_dataframe.to_csv('imdb_series.csv')\n",
    "games_dataframe.to_csv('imdb_games.csv')"
   ]
  }
 ],
 "metadata": {
  "kernelspec": {
   "display_name": "Python 3",
   "language": "python",
   "name": "python3"
  },
  "language_info": {
   "codemirror_mode": {
    "name": "ipython",
    "version": 3
   },
   "file_extension": ".py",
   "mimetype": "text/x-python",
   "name": "python",
   "nbconvert_exporter": "python",
   "pygments_lexer": "ipython3",
   "version": "3.7.4"
  }
 },
 "nbformat": 4,
 "nbformat_minor": 2
}
